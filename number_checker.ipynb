{
 "cells": [
  {
   "cell_type": "code",
   "execution_count": 50,
   "id": "516d467f-00c9-4ece-845f-d95d64e1fbbf",
   "metadata": {},
   "outputs": [
    {
     "name": "stdin",
     "output_type": "stream",
     "text": [
      "Enter a number: 2\n"
     ]
    },
    {
     "name": "stdout",
     "output_type": "stream",
     "text": [
      "Is 2 a Prime Number? True\n"
     ]
    }
   ],
   "source": [
    "def is_prime(x):\n",
    "    if x<=1:\n",
    "        return False\n",
    "    for i in range(2,int(x**0.5)+1):\n",
    "        if x%i ==0:\n",
    "            return False\n",
    "    return True\n",
    "x = int(input('Enter a number:'))\n",
    "print(f'Is {x} a Prime Number?',is_prime(x))"
   ]
  },
  {
   "cell_type": "code",
   "execution_count": 84,
   "id": "68e69bb3-066e-4b62-a9f0-0d9afbcf1319",
   "metadata": {},
   "outputs": [
    {
     "name": "stdin",
     "output_type": "stream",
     "text": [
      "Enter a number: 9\n"
     ]
    },
    {
     "name": "stdout",
     "output_type": "stream",
     "text": [
      "Is 9 a Prime Number? False\n"
     ]
    }
   ],
   "source": [
    "def is_prime(x):\n",
    "    if x<=1:\n",
    "        return False\n",
    "    for i in range(2,x):\n",
    "        if x%i == 0:\n",
    "            return False\n",
    "    return True\n",
    "x = int(input('Enter a number:'))\n",
    "print(f'Is {x} a Prime Number?',is_prime(x))"
   ]
  },
  {
   "cell_type": "code",
   "execution_count": 65,
   "id": "bd4bb4f9-871d-4a90-8cfe-10562fbee932",
   "metadata": {},
   "outputs": [
    {
     "name": "stdin",
     "output_type": "stream",
     "text": [
      "Enter a number to check if it is Even or Odd: 4\n"
     ]
    },
    {
     "data": {
      "text/plain": [
       "'4 is a Even number'"
      ]
     },
     "execution_count": 65,
     "metadata": {},
     "output_type": "execute_result"
    }
   ],
   "source": [
    "def odd_even_checker(x):\n",
    "    if x%2==0:\n",
    "        return f'{x} is a Even number'\n",
    "    else:\n",
    "        return f'{x} is a Odd number'\n",
    "x=int(input('Enter a number to check if it is Even or Odd:'))\n",
    "odd_even_checker(x)"
   ]
  },
  {
   "cell_type": "code",
   "execution_count": 86,
   "id": "576ab634-b1ad-4d5a-8e0c-843620510045",
   "metadata": {},
   "outputs": [],
   "source": [
    "class number_checker:\n",
    "    def __init__(self,x):\n",
    "        self.x=x\n",
    "    def is_prime(self):\n",
    "        if self.x<=1:\n",
    "            print( f'{self.x} is not a Prime number')\n",
    "        for i in range(2,self.x):\n",
    "            if self.x%i ==0:\n",
    "                print( f'{self.x} is not a Prime number')\n",
    "                return self\n",
    "        print(f'{self.x} is a Prime number')\n",
    "        return self\n",
    "    def odd_even_checker(self):\n",
    "        if self.x%2==0:\n",
    "            print( f'{self.x} is a Even number')\n",
    "        else:\n",
    "            print( f'{self.x} is a Odd number')\n",
    "        return self\n",
    "    def get(self):\n",
    "        return self.x"
   ]
  },
  {
   "cell_type": "code",
   "execution_count": 92,
   "id": "41ddfdf3-496a-4e30-ba8a-60f0fd8e8c88",
   "metadata": {},
   "outputs": [
    {
     "name": "stdin",
     "output_type": "stream",
     "text": [
      "Enter a number: 5\n"
     ]
    },
    {
     "name": "stdout",
     "output_type": "stream",
     "text": [
      "5 is a Prime number\n",
      "5 is a Odd number\n"
     ]
    },
    {
     "data": {
      "text/plain": [
       "<__main__.number_checker at 0x106559f30>"
      ]
     },
     "execution_count": 92,
     "metadata": {},
     "output_type": "execute_result"
    }
   ],
   "source": [
    "x=int(input('Enter a number:'))\n",
    "number_checker(x).is_prime().odd_even_checker()\n"
   ]
  }
 ],
 "metadata": {
  "kernelspec": {
   "display_name": "Python 3 (ipykernel)",
   "language": "python",
   "name": "python3"
  },
  "language_info": {
   "codemirror_mode": {
    "name": "ipython",
    "version": 3
   },
   "file_extension": ".py",
   "mimetype": "text/x-python",
   "name": "python",
   "nbconvert_exporter": "python",
   "pygments_lexer": "ipython3",
   "version": "3.13.5"
  }
 },
 "nbformat": 4,
 "nbformat_minor": 5
}
