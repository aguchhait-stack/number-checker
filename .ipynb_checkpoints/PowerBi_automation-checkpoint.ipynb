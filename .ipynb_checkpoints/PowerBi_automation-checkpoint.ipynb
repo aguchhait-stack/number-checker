{
 "cells": [
  {
   "cell_type": "code",
   "execution_count": 1,
   "id": "3121b2e5-4fd1-475b-8877-e43a8239d0ed",
   "metadata": {},
   "outputs": [],
   "source": [
    "import pandas as pd\n",
    "import os"
   ]
  },
  {
   "cell_type": "code",
   "execution_count": 2,
   "id": "55cd6de5-b370-4abb-9c99-918f6212026d",
   "metadata": {},
   "outputs": [],
   "source": [
    "base_url= 'https://raw.githubusercontent.com/aguchhait-stack/SuperstoreBI/refs/heads/main/'\n",
    "csv_files=[\n",
    "    \"fact_sales.csv\",\n",
    "    \"dim_customers.csv\",\n",
    "    \"dim_products.csv\",\n",
    "    \"dim_locations.csv\",\n",
    "    \"dim_dates.csv\",\n",
    "    \"dim_payments.csv\",\n",
    "]"
   ]
  },
  {
   "cell_type": "code",
   "execution_count": 3,
   "id": "c47d107f-1631-4269-bf8c-3e49222c6320",
   "metadata": {},
   "outputs": [
    {
     "name": "stdout",
     "output_type": "stream",
     "text": [
      "Saved:fact_sales.csv to /Users/arijitguchhait/Desktop/Windows 11/Shared\n",
      "Saved:dim_customers.csv to /Users/arijitguchhait/Desktop/Windows 11/Shared\n",
      "Saved:dim_products.csv to /Users/arijitguchhait/Desktop/Windows 11/Shared\n",
      "Saved:dim_locations.csv to /Users/arijitguchhait/Desktop/Windows 11/Shared\n",
      "Saved:dim_dates.csv to /Users/arijitguchhait/Desktop/Windows 11/Shared\n",
      "Saved:dim_payments.csv to /Users/arijitguchhait/Desktop/Windows 11/Shared\n"
     ]
    }
   ],
   "source": [
    "def clean_fact_sales(df):\n",
    "    df['Order Date'] = pd.to_datetime(df['Order Date'], format='%Y-%m-%d', errors='coerce')\n",
    "    df['Ship Date'] = pd.to_datetime(df['Ship Date'], format='%Y-%m-%d', errors='coerce')\n",
    "    df['Returns'] = df['Returns'].replace('#N/A', 0).fillna(0)\n",
    "    df['Quantity'] = pd.to_numeric(df['Quantity'], errors='coerce').fillna(0).astype(int)\n",
    "    return df\n",
    "\n",
    "def clean_generic(df):\n",
    "    df[df.select_dtypes(include='object').columns] = df.select_dtypes(include='object')\n",
    "    df.replace(\"#N/A\", pd.NA, inplace=True)\n",
    "    df = df.dropna(how=\"all\")\n",
    "    return df\n",
    "for file_name in csv_files:\n",
    "    url=base_url+file_name\n",
    "    try:\n",
    "        df=pd.read_csv(url,header=0, sep=\",\", encoding='utf-8')\n",
    "        if file_name == \"fact_sales.csv\":\n",
    "            df = clean_fact_sales(df)\n",
    "        else:\n",
    "            df = clean_generic(df)\n",
    "        output_dir='/Users/arijitguchhait/Desktop/Windows 11/Shared'\n",
    "        os.makedirs(output_dir,exist_ok=True)\n",
    "        df.to_csv(os.path.join(output_dir,file_name),index=False)\n",
    "        print(f'Saved:{file_name} to {output_dir}')\n",
    "    except Exception as e:\n",
    "        print(f'Failed to process:{file_name}:{e}')"
   ]
  },
  {
   "cell_type": "code",
   "execution_count": null,
   "id": "87b735ed-2589-4b45-9c70-e79f07ad0676",
   "metadata": {},
   "outputs": [],
   "source": []
  }
 ],
 "metadata": {
  "kernelspec": {
   "display_name": "Python 3 (ipykernel)",
   "language": "python",
   "name": "python3"
  },
  "language_info": {
   "codemirror_mode": {
    "name": "ipython",
    "version": 3
   },
   "file_extension": ".py",
   "mimetype": "text/x-python",
   "name": "python",
   "nbconvert_exporter": "python",
   "pygments_lexer": "ipython3",
   "version": "3.13.5"
  }
 },
 "nbformat": 4,
 "nbformat_minor": 5
}
